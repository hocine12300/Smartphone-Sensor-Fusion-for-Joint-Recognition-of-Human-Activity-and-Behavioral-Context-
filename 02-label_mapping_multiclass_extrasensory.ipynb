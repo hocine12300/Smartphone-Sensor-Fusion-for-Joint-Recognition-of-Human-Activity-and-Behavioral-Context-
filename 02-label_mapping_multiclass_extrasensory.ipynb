{
 "cells": [
  {
   "cell_type": "code",
   "execution_count": 1,
   "id": "a0eb4beb",
   "metadata": {},
   "outputs": [],
   "source": [
    "import os\n",
    "import pandas as pd\n",
    "\n",
    "# Labeling\n",
    "combinations = {\n",
    "    (\"BICYCLING\",): \"Cycling + Exercise\",\n",
    "    (\"LYING_DOWN\", \"SURFING_THE_INTERNET\"): \"Lying + Surfing In Internet\",\n",
    "    (\"LYING_DOWN\", \"SLEEPING\"): \"Lying + Sleeping\",\n",
    "    (\"LYING_DOWN\", \"WATCHING_TV\"): \"Lying + Watching TV\",\n",
    "    (\"RUNNING\",): \"Running + Exercise\",\n",
    "    (\"SITTING\", \"WATCHING_TV\"): \"Sitting + Watch TV\",\n",
    "    (\"SITTING\", \"IN_A_CAR\"): \"Sitting + In Car\",\n",
    "    (\"SITTING\", \"IN_A_MEETING\"): \"Sitting + In Meeting\",\n",
    "    (\"SITTING\", \"SURFING_THE_INTERNET\"): \"Sitting + Surfing In Internet\",\n",
    "    (\"STANDING_IN_PLACE\", \"INDOORS\"): \"Standing + Inside\",\n",
    "    (\"STANDING_IN_PLACE\", \"OUTSIDE\"): \"Standing + Outside\",\n",
    "    (\"WALKING\", \"INDOORS\"): \"Walking + Indoor\",\n",
    "    (\"WALKING\", \"OUTSIDE\"): \"Walking + Outside\",\n",
    "    (\"WALKING\", \"SHOPPING\"): \"Walking + Shopping\",\n",
    "    (\"WALKING\", \"TALKING\"): \"Walking + Talking\",\n",
    "}"
   ]
  },
  {
   "cell_type": "markdown",
   "id": "47c08c5e",
   "metadata": {},
   "source": [
    "# 5 s"
   ]
  },
  {
   "cell_type": "code",
   "execution_count": null,
   "id": "2bcab84a",
   "metadata": {},
   "outputs": [],
   "source": [
    "os.chdir(r\"C:\\Users\\attou\\OneDrive\\Desktop\\ExtraSensory Brut\\5s\")\n",
    "\n",
    "all_dfs = []\n",
    "for file in os.listdir():\n",
    "    if file.endswith(\".csv\"):\n",
    "        df = pd.read_csv(file, index_col=0)\n",
    "        df['classe'] = None\n",
    "        for acts, label in combinations.items():\n",
    "            if all(act in df.columns for act in acts):\n",
    "                condition = df[acts[0]] == 1\n",
    "                for act in acts[1:]:\n",
    "                    condition &= (df[act] == 1)\n",
    "                df.loc[condition, 'classe'] = label\n",
    "        df.drop(df.columns[120:225], axis=1, inplace=True, errors='ignore')\n",
    "        all_dfs.append(df)\n",
    "\n",
    "df = pd.concat(all_dfs, ignore_index=True)\n",
    "df.drop(\"timestamp\", axis=1, inplace=True)\n",
    "df.dropna(inplace=True)\n",
    "df.to_csv('5s.csv', index= False) # export CSV FILE!!!"
   ]
  },
  {
   "cell_type": "markdown",
   "id": "7c8176ee",
   "metadata": {},
   "source": [
    "# 10 s"
   ]
  },
  {
   "cell_type": "code",
   "execution_count": 3,
   "id": "a268f231",
   "metadata": {},
   "outputs": [],
   "source": [
    "os.chdir(r\"C:\\Users\\attou\\OneDrive\\Desktop\\ExtraSensory Brut\\10s\")\n",
    "\n",
    "all_dfs = []\n",
    "for file in os.listdir():\n",
    "    if file.endswith(\".csv\"):\n",
    "        df = pd.read_csv(file, index_col=0)\n",
    "        df['classe'] = None\n",
    "        for acts, label in combinations.items():\n",
    "            if all(act in df.columns for act in acts):\n",
    "                condition = df[acts[0]] == 1\n",
    "                for act in acts[1:]:\n",
    "                    condition &= (df[act] == 1)\n",
    "                df.loc[condition, 'classe'] = label\n",
    "        df.drop(df.columns[120:225], axis=1, inplace=True, errors='ignore')\n",
    "        all_dfs.append(df)\n",
    "\n",
    "df = pd.concat(all_dfs, ignore_index=True)\n",
    "df.drop(\"timestamp\", axis=1, inplace=True)\n",
    "df.dropna(inplace=True)\n",
    "df.to_csv('10s.csv', index= False) # export CSV FILE!!!"
   ]
  },
  {
   "cell_type": "markdown",
   "id": "991f7281",
   "metadata": {},
   "source": [
    "# 20 s"
   ]
  },
  {
   "cell_type": "code",
   "execution_count": 4,
   "id": "1b2b6468",
   "metadata": {},
   "outputs": [],
   "source": [
    "os.chdir(r\"C:\\Users\\attou\\OneDrive\\Desktop\\ExtraSensory Brut\\20s\")\n",
    "\n",
    "all_dfs = []\n",
    "for file in os.listdir():\n",
    "    if file.endswith(\".csv\"):\n",
    "        df = pd.read_csv(file, index_col=0)\n",
    "        df['classe'] = None\n",
    "        for acts, label in combinations.items():\n",
    "            if all(act in df.columns for act in acts):\n",
    "                condition = df[acts[0]] == 1\n",
    "                for act in acts[1:]:\n",
    "                    condition &= (df[act] == 1)\n",
    "                df.loc[condition, 'classe'] = label\n",
    "        df.drop(df.columns[120:225], axis=1, inplace=True, errors='ignore')\n",
    "        all_dfs.append(df)\n",
    "\n",
    "df = pd.concat(all_dfs, ignore_index=True)\n",
    "df.drop(\"timestamp\", axis=1, inplace=True)\n",
    "df.dropna(inplace=True)\n",
    "df.to_csv('20s.csv', index= False) # export CSV FILE!!!"
   ]
  }
 ],
 "metadata": {
  "kernelspec": {
   "display_name": "Python 3",
   "language": "python",
   "name": "python3"
  },
  "language_info": {
   "codemirror_mode": {
    "name": "ipython",
    "version": 3
   },
   "file_extension": ".py",
   "mimetype": "text/x-python",
   "name": "python",
   "nbconvert_exporter": "python",
   "pygments_lexer": "ipython3",
   "version": "3.13.3"
  }
 },
 "nbformat": 4,
 "nbformat_minor": 5
}
