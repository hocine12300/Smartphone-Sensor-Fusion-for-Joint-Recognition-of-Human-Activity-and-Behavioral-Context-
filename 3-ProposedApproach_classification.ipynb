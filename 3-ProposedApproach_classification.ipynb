{
 "cells": [
  {
   "cell_type": "code",
   "execution_count": 2,
   "id": "27964b6b",
   "metadata": {},
   "outputs": [],
   "source": [
    "import os\n",
    "from sklearn.tree import ExtraTreeClassifier\n",
    "from sklearn.ensemble import ExtraTreesClassifier\n",
    "from sklearn.model_selection import train_test_split\n",
    "from sklearn.metrics import classification_report\n",
    "from sklearn.ensemble import ExtraTreesClassifier\n",
    "from sklearn.model_selection import train_test_split\n",
    "from sklearn.metrics import classification_report\n",
    "import numpy as np\n",
    "import pandas as pd\n",
    "import joblib\n",
    "\n",
    "os.chdir(r'C:\\Users\\attou\\OneDrive\\Desktop\\ExtraSensory Brut\\Extracted CSV')\n",
    "df5 = pd.read_csv(\"5s.csv\")"
   ]
  },
  {
   "cell_type": "code",
   "execution_count": 3,
   "id": "05ae1ea6",
   "metadata": {},
   "outputs": [],
   "source": [
    "X = df5.drop(columns=['classe'])\n",
    "y = df5['classe']\n",
    "\n",
    "X_train, X_test, y_train, y_test = train_test_split(X, y, test_size=0.3, random_state=42, stratify=y, shuffle=True)\n"
   ]
  },
  {
   "cell_type": "code",
   "execution_count": 4,
   "id": "a20060e6",
   "metadata": {},
   "outputs": [
    {
     "name": "stdout",
     "output_type": "stream",
     "text": [
      "                               precision    recall  f1-score   support\n",
      "\n",
      "           Cycling + Exercise     0.9038    0.9605    0.9313      5615\n",
      "             Lying + Sleeping     0.9898    0.9954    0.9926     80085\n",
      "  Lying + Surfing In Internet     0.9824    0.9515    0.9667      2411\n",
      "          Lying + Watching TV     0.9468    0.9209    0.9337      2263\n",
      "           Running + Exercise     0.9769    0.9451    0.9607      1385\n",
      "             Sitting + In Car     0.9056    0.9421    0.9235      5528\n",
      "         Sitting + In Meeting     0.9748    0.9630    0.9689      4057\n",
      "Sitting + Surfing In Internet     0.9525    0.9576    0.9551     14939\n",
      "           Sitting + Watch TV     0.9717    0.9475    0.9594      9461\n",
      "            Standing + Inside     0.9695    0.8741    0.9193      1056\n",
      "           Standing + Outside     0.9559    0.8696    0.9107       698\n",
      "             Walking + Indoor     0.9467    0.8469    0.8940       797\n",
      "            Walking + Outside     0.9057    0.8821    0.8937      3451\n",
      "           Walking + Shopping     0.9558    0.8059    0.8745       752\n",
      "            Walking + Talking     0.9236    0.8869    0.9049      4528\n",
      "\n",
      "                     accuracy                         0.9710    137026\n",
      "                    macro avg     0.9508    0.9166    0.9326    137026\n",
      "                 weighted avg     0.9711    0.9710    0.9708    137026\n",
      "\n"
     ]
    }
   ],
   "source": [
    "X = df5.drop(columns=['classe'])\n",
    "y = df5['classe']\n",
    "\n",
    "X_train, X_test, y_train, y_test = train_test_split(X, y, test_size=0.3, random_state=42, stratify=y, shuffle=True)\n",
    "\n",
    "clf = ExtraTreesClassifier(n_estimators=8,\n",
    "                           criterion='entropy',\n",
    "                           max_depth=None,\n",
    "                           min_samples_split=2,\n",
    "                           min_samples_leaf=1,\n",
    "                           min_weight_fraction_leaf=0.0,\n",
    "                           max_features='sqrt',\n",
    "                           random_state=1,\n",
    "                           max_leaf_nodes=None,\n",
    "                           min_impurity_decrease=0.0,\n",
    "                           class_weight='balanced',\n",
    "                           ccp_alpha=0.0,\n",
    "                           monotonic_cst=None)\n",
    "\n",
    "clf.fit(X_train, y_train)\n",
    "joblib.dump(clf, \"Model_Proposed.pkl\")\n",
    "\n",
    "# Prédictions\n",
    "y_pred = clf.predict(X_test)\n",
    "print(classification_report(y_test, y_pred, digits= 4))"
   ]
  },
  {
   "cell_type": "code",
   "execution_count": null,
   "id": "b714384a",
   "metadata": {},
   "outputs": [],
   "source": []
  }
 ],
 "metadata": {
  "kernelspec": {
   "display_name": "Python 3",
   "language": "python",
   "name": "python3"
  },
  "language_info": {
   "codemirror_mode": {
    "name": "ipython",
    "version": 3
   },
   "file_extension": ".py",
   "mimetype": "text/x-python",
   "name": "python",
   "nbconvert_exporter": "python",
   "pygments_lexer": "ipython3",
   "version": "3.13.3"
  }
 },
 "nbformat": 4,
 "nbformat_minor": 5
}
